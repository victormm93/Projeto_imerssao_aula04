{
  "nbformat": 4,
  "nbformat_minor": 0,
  "metadata": {
    "colab": {
      "provenance": [],
      "authorship_tag": "ABX9TyOdOXE9GFRixZ66jmgTS9NV",
      "include_colab_link": true
    },
    "kernelspec": {
      "name": "python3",
      "display_name": "Python 3"
    },
    "language_info": {
      "name": "python"
    }
  },
  "cells": [
    {
      "cell_type": "markdown",
      "metadata": {
        "id": "view-in-github",
        "colab_type": "text"
      },
      "source": [
        "<a href=\"https://colab.research.google.com/github/victormm93/Projeto_imerssao_aula04/blob/main/tarefa.ipynb\" target=\"_parent\"><img src=\"https://colab.research.google.com/assets/colab-badge.svg\" alt=\"Open In Colab\"/></a>"
      ]
    },
    {
      "cell_type": "code",
      "source": [
        "\n",
        "!pip install -q -U google-generativeai\n",
        "\n",
        "# Importe a biblioteca Python\n",
        "import google.generativeai as genai\n",
        "from google.colab import userdata\n",
        "\n",
        "# Obtenha a chave secreta e armazene na variável 'secret_key'\n",
        "secret_key = userdata.get('secret_key')\n",
        "\n",
        "# Configure a API\n",
        "genai.configure(api_key=secret_key)\n",
        "\n",
        "# Selecione o modelo\n",
        "model = genai.GenerativeModel('gemini-pro')\n",
        "\n",
        "# Contexto para o chatbot - aqui você pode fornecer informações relevantes sobre biologia\n",
        "context = \"\"\"\n",
        "Você é um tutor de biologia do ensino médio.\n",
        "Responda as perguntas dos alunos de forma clara e concisa,\n",
        "usando exemplos quando possível.\n",
        "\"\"\"\n",
        "\n",
        "# Inicie o chat\n",
        "chat = model.start_chat(history=[])\n",
        "\n",
        "# Loop do chat\n",
        "print(\"Bem-vindo ao Chat de Biologia! Digite 'fim' para sair.\")\n",
        "prompt = input(\"Esperando prompt: \")\n",
        "while prompt != \"fim\":\n",
        "    response = chat.send_message(prompt)\n",
        "    print(\"Resposta:\", response.text, \"\\n\")\n",
        "    prompt = input(\"Esperando prompt: \")\n",
        "\n",
        "print(\"Obrigado por usar o Chat de Biologia!\")"
      ],
      "metadata": {
        "colab": {
          "base_uri": "https://localhost:8080/",
          "height": 402
        },
        "id": "hm8iOzlMsOQj",
        "outputId": "07596b0f-c1d8-43bd-ba22-e5a5bb14a810"
      },
      "execution_count": 5,
      "outputs": [
        {
          "output_type": "stream",
          "name": "stdout",
          "text": [
            "Bem-vindo ao Chat de Biologia! Digite 'fim' para sair.\n",
            "Esperando prompt: Qual os conceitos chaves de evolução\n",
            "Resposta: **Conceitos Chave da Evolução**\n",
            "\n",
            "* **Seleção Natural:** O processo pelo qual os indivíduos com traços mais vantajosos sobrevivem e se reproduzem com mais sucesso, transmitindo seus traços para as gerações futuras.\n",
            "* **Variação:** As diferenças hereditárias entre os indivíduos de uma espécie.\n",
            "* **Hereditariedade:** A transmissão de características de pais para filhos.\n",
            "* **Ancestralidade Comum:** A ideia de que todos os organismos vivos descendem de um ancestral comum.\n",
            "* **Especiação:** O processo pelo qual novas espécies surgem a partir de espécies existentes.\n",
            "* **Deriva Genética:** Uma mudança aleatória na frequência dos alelos em uma população.\n",
            "* **Fluxo Gênico:** O movimento de genes entre as populações.\n",
            "* **Equilíbrio de Hardy-Weinberg:** Um princípio que afirma que as frequências dos alelos e genótipos em uma população permanecerão constantes em certas condições.\n",
            "* **Evolução Convergente:** O desenvolvimento de características semelhantes em espécies não relacionadas que ocupam ambientes semelhantes.\n",
            "* **Evolução Divergente:** O desenvolvimento de características distintas em espécies relacionadas que evoluíram em ambientes diferentes.\n",
            "* **Adaptação:** Uma característica que aumenta as chances de sobrevivência e reprodução de um organismo em seu ambiente.\n",
            "* **Coevolução:** A evolução mútua de duas ou mais espécies que interagem entre si.\n",
            "* **Extinção:** O desaparecimento de uma espécie da Terra.\n",
            "* **Tempo Geológico:** A escala de tempo imensamente longa em que os processos evolutivos ocorrem. \n",
            "\n",
            "Esperando prompt: fim\n",
            "Obrigado por usar o Chat de Biologia!\n"
          ]
        }
      ]
    }
  ]
}